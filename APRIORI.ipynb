{
  "nbformat": 4,
  "nbformat_minor": 0,
  "metadata": {
    "colab": {
      "name": "APRIORI.ipynb",
      "provenance": [],
      "collapsed_sections": []
    },
    "kernelspec": {
      "name": "python3",
      "display_name": "Python 3"
    },
    "accelerator": "GPU"
  },
  "cells": [
    {
      "cell_type": "code",
      "metadata": {
        "id": "T32yWsO7hJRt",
        "colab_type": "code",
        "outputId": "1f59272f-36db-4be0-9721-cea5dd53b846",
        "colab": {
          "base_uri": "https://localhost:8080/",
          "height": 124
        }
      },
      "source": [
        "import pandas as pd\n",
        "import copy\n",
        "import numpy as np\n",
        "from google.colab import drive\n",
        "drive.mount('/content/drive')"
      ],
      "execution_count": 0,
      "outputs": [
        {
          "output_type": "stream",
          "text": [
            "Go to this URL in a browser: https://accounts.google.com/o/oauth2/auth?client_id=947318989803-6bn6qk8qdgf4n4g3pfee6491hc0brc4i.apps.googleusercontent.com&redirect_uri=urn%3Aietf%3Awg%3Aoauth%3A2.0%3Aoob&scope=email%20https%3A%2F%2Fwww.googleapis.com%2Fauth%2Fdocs.test%20https%3A%2F%2Fwww.googleapis.com%2Fauth%2Fdrive%20https%3A%2F%2Fwww.googleapis.com%2Fauth%2Fdrive.photos.readonly%20https%3A%2F%2Fwww.googleapis.com%2Fauth%2Fpeopleapi.readonly&response_type=code\n",
            "\n",
            "Enter your authorization code:\n",
            "··········\n",
            "Mounted at /content/drive\n"
          ],
          "name": "stdout"
        }
      ]
    },
    {
      "cell_type": "code",
      "metadata": {
        "id": "PrOkiCrRhRtH",
        "colab_type": "code",
        "outputId": "37da0512-1354-4f22-e70a-950d0dca8ce5",
        "colab": {
          "base_uri": "https://localhost:8080/",
          "height": 34
        }
      },
      "source": [
        "cd drive/My\\ Drive/Colab\\ Notebooks/Data\\ Mining\\ -\\ CSC440"
      ],
      "execution_count": 0,
      "outputs": [
        {
          "output_type": "stream",
          "text": [
            "/content/drive/My Drive/Colab Notebooks/Data Mining - CSC440\n"
          ],
          "name": "stdout"
        }
      ]
    },
    {
      "cell_type": "code",
      "metadata": {
        "id": "BHyN6jZehgA8",
        "colab_type": "code",
        "colab": {}
      },
      "source": [
        "df = pd.read_csv('adult.data', header = None , skipinitialspace = True , na_values = '?')\n",
        "df_as_matrix = np.asarray(df)\n",
        "\n",
        "def check_if_xinlist(x,l):\n",
        "  for i in l:\n",
        "    if x == i:\n",
        "      return True\n",
        "\n",
        "def put_in_dictionary(list1):\n",
        "  D = {}\n",
        "  for i in list1:\n",
        "    if check_if_xinlist(i,D.keys()):\n",
        "      D[i] = D[i] + 1\n",
        "    else:\n",
        "      D[i] = 1\n",
        "  return D\n",
        "\n",
        "def count_individual_items(data):\n",
        "  LD = []\n",
        "  for i in range(data.shape[1]):\n",
        "    LD.append(put_in_dictionary(data[:,i]))\n",
        "  return LD\n",
        "\n",
        "def apriori_gen1(list_of_dictionaries , support):\n",
        "  L1 = []\n",
        "  for i in list_of_dictionaries:\n",
        "    for key , value in i.items():\n",
        "      if value >= support:\n",
        "        L1.append(key)\n",
        "  return L1\n",
        "\n",
        "def number_of_times_appears_in_ds(item):\n",
        "  count_out = 0\n",
        "  for j in df_as_matrix:\n",
        "    index = 0\n",
        "    count_in = 0\n",
        "    for i in item:\n",
        "      for k in range(index , df_as_matrix.shape[1]):\n",
        "        if i == j[k]:\n",
        "          count_in = count_in + 1\n",
        "          index = k+1\n",
        "    if count_in == len(item):\n",
        "      count_out = count_out + 1\n",
        "  return count_out\n",
        "\n",
        "def apriori_gen2(original_list , support):\n",
        "  C2 = []\n",
        "  L2 = []\n",
        "  for i in range(len(original_list)):\n",
        "    for j in original_list[i+1:]:\n",
        "      C2.append([original_list[i],j])\n",
        "  for i in C2:\n",
        "    if number_of_times_appears_in_ds(i) >= support:\n",
        "      L2.append(i)\n",
        "  return L2\n",
        "\n",
        "def apriori_gen3(second_list , support):\n",
        "  candidate_list = ['TEST']\n",
        "  l_list = []\n",
        "  final_list = []\n",
        "  while len(candidate_list) != 0:\n",
        "    candidate_list = []\n",
        "    for i in range(len(second_list)):\n",
        "      for j in second_list[i+1:]:\n",
        "        if second_list[i][:-1] == j[:-1]:\n",
        "          counter = 0\n",
        "          for z in subsets(second_list[i] + [j[-1]]):\n",
        "            if z in second_list:\n",
        "              counter = counter + 1\n",
        "          if counter == len(second_list[i] + [j[-1]]):\n",
        "            candidate_list.append(second_list[i] + [j[-1]])\n",
        "    for i in candidate_list:\n",
        "      if number_of_times_appears_in_ds(i) >= support:\n",
        "        l_list.append(i)\n",
        "    final_list.append(l_list)\n",
        "    second_list = copy.deepcopy(l_list)\n",
        "    l_list = []\n",
        "  return final_list\n",
        "    \n",
        "def subsets(list1):\n",
        "  lo = []\n",
        "  for i in range(len(list1)):\n",
        "    lo.append((list1[:i] + list1[i+1:]))\n",
        "  return lo\n",
        "\n",
        "def apriori(data,support):\n",
        "  total_single_count = count_individual_items(data)\n",
        "  LL1 = apriori_gen1(total_single_count , support)\n",
        "  LL2 = apriori_gen2(LL1 , support)\n",
        "  LL3 = apriori_gen3(LL2,support)\n",
        "  print(LL1)\n",
        "  print(LL2)\n",
        "  for i in LL3:\n",
        "    print(i)\n"
      ],
      "execution_count": 0,
      "outputs": []
    },
    {
      "cell_type": "code",
      "metadata": {
        "id": "t-BBAB3O3wDs",
        "colab_type": "code",
        "outputId": "1223db4c-03d9-40e2-98c8-652dd7d579c3",
        "colab": {
          "base_uri": "https://localhost:8080/",
          "height": 86
        }
      },
      "source": [
        "support = 0.5\n",
        "support = int(support*df_as_matrix.shape[0])\n",
        "apriori(df_as_matrix , support)"
      ],
      "execution_count": 0,
      "outputs": [
        {
          "output_type": "stream",
          "text": [
            "['Private', 'White', 'Male', 0, 0, 'United-States', '<=50K']\n",
            "[['Private', 'White'], ['Private', 'United-States'], ['Private', '<=50K'], ['White', 'Male'], ['White', 'United-States'], ['White', '<=50K'], ['Male', 'United-States'], [0, 0], ['United-States', '<=50K']]\n",
            "[['Private', 'White', 'United-States'], ['White', 'Male', 'United-States'], ['White', 'United-States', '<=50K']]\n",
            "[]\n"
          ],
          "name": "stdout"
        }
      ]
    },
    {
      "cell_type": "code",
      "metadata": {
        "id": "3cmTBbvf_dRf",
        "colab_type": "code",
        "outputId": "327de97e-adc9-4cf8-a2bb-b192f26df349",
        "colab": {
          "base_uri": "https://localhost:8080/",
          "height": 141
        }
      },
      "source": [
        "support = 0.3\n",
        "support = int(support*df_as_matrix.shape[0])\n",
        "apriori(df_as_matrix , support)"
      ],
      "execution_count": 0,
      "outputs": [
        {
          "output_type": "stream",
          "text": [
            "['Private', 'HS-grad', 9, 'Never-married', 'Married-civ-spouse', 'Husband', 'White', 'Male', 'Female', 0, 0, 40, 'United-States', '<=50K']\n",
            "[['Private', 'White'], ['Private', 'Male'], ['Private', 0], ['Private', 0], ['Private', 40], ['Private', 'United-States'], ['Private', '<=50K'], ['HS-grad', 9], ['HS-grad', 0], ['HS-grad', 0], [9, 0], [9, 0], ['Never-married', 0], ['Never-married', 0], ['Never-married', '<=50K'], ['Married-civ-spouse', 'Husband'], ['Married-civ-spouse', 'White'], ['Married-civ-spouse', 'Male'], ['Married-civ-spouse', 0], ['Married-civ-spouse', 0], ['Married-civ-spouse', 'United-States'], ['Husband', 'White'], ['Husband', 'Male'], ['Husband', 0], ['Husband', 0], ['Husband', 'United-States'], ['White', 'Male'], ['White', 40], ['White', 'United-States'], ['White', '<=50K'], ['Male', 0], ['Male', 0], ['Male', 40], ['Male', 'United-States'], ['Male', '<=50K'], ['Female', 0], ['Female', 0], [0, 0], [0, 40], [0, 40], [40, 'United-States'], [40, '<=50K'], ['United-States', '<=50K']]\n",
            "[['Private', 'White', 'Male'], ['Private', 'White', 'United-States'], ['Private', 'White', '<=50K'], ['Private', 'Male', 0], ['Private', 'Male', 0], ['Private', 'Male', 'United-States'], ['Private', 'Male', '<=50K'], ['Private', 0, 0], ['Private', 0, 40], ['Private', 0, 40], ['Private', 'United-States', '<=50K'], ['Never-married', 0, 0], ['Married-civ-spouse', 'Husband', 'White'], ['Married-civ-spouse', 'Husband', 'Male'], ['Married-civ-spouse', 'Husband', 'United-States'], ['Married-civ-spouse', 'White', 'Male'], ['Married-civ-spouse', 'White', 'United-States'], ['Married-civ-spouse', 'Male', 0], ['Married-civ-spouse', 'Male', 0], ['Married-civ-spouse', 'Male', 'United-States'], ['Married-civ-spouse', 0, 0], ['Husband', 'White', 'Male'], ['Husband', 'White', 'United-States'], ['Husband', 'Male', 0], ['Husband', 'Male', 0], ['Husband', 'Male', 'United-States'], ['Husband', 0, 0], ['White', 'Male', 'United-States'], ['White', 'Male', '<=50K'], ['White', 40, 'United-States'], ['White', 'United-States', '<=50K'], ['Male', 0, 0], ['Male', 0, 40], ['Male', 0, 40], ['Male', 'United-States', '<=50K'], ['Female', 0, 0], [0, 0, 40], [0, 0, 40], [40, 'United-States', '<=50K']]\n",
            "[['Private', 'White', 'Male', 'United-States'], ['Private', 'White', 'United-States', '<=50K'], ['Private', 'Male', 0, 0], ['Private', 0, 0, 40], ['Private', 0, 0, 40], ['Married-civ-spouse', 'Husband', 'White', 'Male'], ['Married-civ-spouse', 'Husband', 'White', 'United-States'], ['Married-civ-spouse', 'Husband', 'Male', 'United-States'], ['Married-civ-spouse', 'White', 'Male', 'United-States'], ['Married-civ-spouse', 'Male', 0, 0], ['Husband', 'White', 'Male', 'United-States'], ['Husband', 'Male', 0, 0], ['White', 'Male', 'United-States', '<=50K']]\n",
            "[['Married-civ-spouse', 'Husband', 'White', 'Male', 'United-States']]\n",
            "[]\n"
          ],
          "name": "stdout"
        }
      ]
    },
    {
      "cell_type": "code",
      "metadata": {
        "id": "fB7asWVwULsv",
        "colab_type": "code",
        "outputId": "d9ce241a-1fc9-43e4-9ed8-584df8a83f3f",
        "colab": {
          "base_uri": "https://localhost:8080/",
          "height": 104
        }
      },
      "source": [
        "import time\n",
        "t0 = time.clock()\n",
        "support = 0.5\n",
        "support = int(support*df_as_matrix.shape[0])\n",
        "apriori(df_as_matrix , support)\n",
        "t1 = time.clock()\n",
        "print(t1 - t0)"
      ],
      "execution_count": 0,
      "outputs": [
        {
          "output_type": "stream",
          "text": [
            "['Private', 'White', 'Male', 0, 0, 'United-States', '<=50K']\n",
            "[['Private', 'White'], ['Private', 'United-States'], ['Private', '<=50K'], ['White', 'Male'], ['White', 'United-States'], ['White', '<=50K'], ['Male', 'United-States'], [0, 0], ['United-States', '<=50K']]\n",
            "[['Private', 'White', 'United-States'], ['White', 'Male', 'United-States'], ['White', 'United-States', '<=50K']]\n",
            "[]\n",
            "13.586750000000002\n"
          ],
          "name": "stdout"
        }
      ]
    }
  ]
}